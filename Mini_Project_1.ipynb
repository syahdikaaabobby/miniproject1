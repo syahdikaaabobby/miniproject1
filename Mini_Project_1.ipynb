import numpy as np
import pandas as pd
import matplotlib.pyplot as plt
from sklearn.metrics import confusion_matrix
from sklearn.model_selection import train_test_split, learning_curve
from sklearn.svm import SVC
from sklearn.neighbors import KNeighborsClassifier

# Function to calculate performance metrics for each fold in 10-fold CV
def calculate_cv_metrics(y_true, y_pred):
    conf_matrix = confusion_matrix(y_true, y_pred)
    sensitivity = conf_matrix[1, 1] / (conf_matrix[1, 1] + conf_matrix[1, 0])
    specificity = conf_matrix[0, 0] / (conf_matrix[0, 0] + conf_matrix[0, 1])
    accuracy = (conf_matrix[0, 0] + conf_matrix[1, 1]) / sum(sum(conf_matrix))
    f1_score = 2 * (sensitivity * (specificity / (sensitivity + specificity)))
    return sensitivity, specificity, accuracy, f1_score

# Load and preprocess each dataset separately
datasets = ["CPA1", "CPA2", "CPA3", "CPB1", "CPB2", "CPB3", "CPB4", "CPB5", "CPB6", "CPB7"]

for dataset_name in datasets:
    # Load dataset
    dataset = pd.read_excel(f"{dataset_name}.xlsx")
    X = dataset[['powLv1', 'powLv2', 'powLv3', 'powLv4', 'powLv5']]
    y = dataset['kelas']

    # 10-fold Cross-Validation
    svm_classifier = SVC()
    knn_classifier = KNeighborsClassifier()

    svm_cv_sensitivity = []
    svm_cv_specificity = []
    svm_cv_accuracy = []
    svm_cv_f1_score = []

    knn_cv_sensitivity = []
    knn_cv_specificity = []
    knn_cv_accuracy = []
    knn_cv_f1_score = []

    for i in range(10):
        # Splitting data for each fold
        X_train, X_test, y_train, y_test = train_test_split(X, y, test_size=0.1, random_state=i)

        # SVM
        svm_classifier.fit(X_train, y_train)
        svm_predictions = svm_classifier.predict(X_test)
        svm_sensitivity, svm_specificity, svm_accuracy, svm_f1_score = calculate_cv_metrics(y_test, svm_predictions)
        svm_cv_sensitivity.append(svm_sensitivity)
        svm_cv_specificity.append(svm_specificity)
        svm_cv_accuracy.append(svm_accuracy)
        svm_cv_f1_score.append(svm_f1_score)

        # KNN
        knn_classifier.fit(X_train, y_train)
        knn_predictions = knn_classifier.predict(X_test)
        knn_sensitivity, knn_specificity, knn_accuracy, knn_f1_score = calculate_cv_metrics(y_test, knn_predictions)
        knn_cv_sensitivity.append(knn_sensitivity)
        knn_cv_specificity.append(knn_specificity)
        knn_cv_accuracy.append(knn_accuracy)
        knn_cv_f1_score.append(knn_f1_score)

    # Print average performance metrics for SVM
    print(f"Results for Dataset {dataset_name}:")
    print("\nAverage Performance Metrics for SVM (10-fold CV):")
    print("Sensitivity:", np.mean(svm_cv_sensitivity))
    print("Specificity:", np.mean(svm_cv_specificity))
    print("Accuracy:", np.mean(svm_cv_accuracy))
    print("F1-Score:", np.mean(svm_cv_f1_score))

    # Print average performance metrics for KNN
    print("\nAverage Performance Metrics for KNN (10-fold CV):")
    print("Sensitivity:", np.mean(knn_cv_sensitivity))
    print("Specificity:", np.mean(knn_cv_specificity))
    print("Accuracy:", np.mean(knn_cv_accuracy))
    print("F1-Score:", np.mean(knn_cv_f1_score))

    # 75% Training, 25% Testing
    X_train, X_test, y_train, y_test = train_test_split(X, y, test_size=0.25, random_state=42)
    svm_classifier.fit(X_train, y_train)
    knn_classifier.fit(X_train, y_train)
    svm_predictions = svm_classifier.predict(X_test)
    knn_predictions = knn_classifier.predict(X_test)
    svm_sensitivity, svm_specificity, svm_accuracy, svm_f1_score = calculate_cv_metrics(y_test, svm_predictions)
    knn_sensitivity, knn_specificity, knn_accuracy, knn_f1_score = calculate_cv_metrics(y_test, knn_predictions)
    
    print("\nPerformance Metrics (75% Training, 25% Testing):")
    print("SVM:")
    print("Sensitivity:", svm_sensitivity)
    print("Specificity:", svm_specificity)
    print("Accuracy:", svm_accuracy)
    print("F1-Score:", svm_f1_score)
    print("\nKNN:")
    print("Sensitivity:", knn_sensitivity)
    print("Specificity:", knn_specificity)
    print("Accuracy:", knn_accuracy)
    print("F1-Score:", knn_f1_score)

    # 50% Training, 25% Validation, 25% Testing
    X_train_val, X_test, y_train_val, y_test = train_test_split(X, y, test_size=0.25, random_state=42)
    X_train, X_val, y_train, y_val = train_test_split(X_train_val, y_train_val, test_size=0.33, random_state=42)
    svm_classifier.fit(X_train, y_train)
    knn_classifier.fit(X_train, y_train)
    svm_val_predictions = svm_classifier.predict(X_val)
    knn_val_predictions = knn_classifier.predict(X_val)
    svm_val_sensitivity, svm_val_specificity, svm_val_accuracy, svm_val_f1_score = calculate_cv_metrics(y_val, svm_val_predictions)
    knn_val_sensitivity, knn_val_specificity, knn_val_accuracy, knn_val_f1_score = calculate_cv_metrics(y_val, knn_val_predictions)

    print("\nValidation Performance Metrics (50% Training, 25% Validation, 25% Testing):")
    print("SVM:")
    print("Sensitivity:", svm_val_sensitivity)
    print("Specificity:", svm_val_specificity)
    print("Accuracy:", svm_val_accuracy)
    print("F1-Score:", svm_val_f1_score)
    print("\nKNN:")
    print("Sensitivity:", knn_val_sensitivity)
    print("Specificity:", knn_val_specificity)
    print("Accuracy:", knn_val_accuracy)
    print("F1-Score:", knn_val_f1_score)

    svm_test_predictions = svm_classifier.predict(X_test)
    knn_test_predictions = knn_classifier.predict(X_test)
    svm_test_sensitivity, svm_test_specificity, svm_test_accuracy, svm_test_f1_score = calculate_cv_metrics(y_test, svm_test_predictions)
    knn_test_sensitivity, knn_test_specificity, knn_test_accuracy, knn_test_f1_score = calculate_cv_metrics(y_test, knn_test_predictions)

    print("\nTest Performance Metrics (50% Training, 25% Validation, 25% Testing):")
    print("SVM:")
    print("Sensitivity:", svm_test_sensitivity)
    print("Specificity:", svm_test_specificity)
    print("Accuracy:", svm_test_accuracy)
    print("F1-Score:", svm_test_f1_score)
    print("\nKNN:")
    print("Sensitivity:", knn_test_sensitivity)
    print("Specificity:", knn_test_specificity)
    print("Accuracy:", knn_test_accuracy)
    print("F1-Score:", knn_test_f1_score)

    # Plot learning curves for SVM and KNN
    train_sizes, svm_train_scores, svm_valid_scores = learning_curve(svm_classifier, X, y, train_sizes=np.linspace(0.1, 1.0, 10), cv=5)
    svm_train_scores_mean = np.mean(svm_train_scores, axis=1)
    svm_valid_scores_mean = np.mean(svm_valid_scores, axis=1)

    plt.figure()
    plt.title(f"Learning Curve (SVM) - {dataset_name}")
    plt.xlabel("Training examples")
    plt.ylabel("Score")
    plt.grid()
    plt.plot(train_sizes, svm_train_scores_mean, 'o-', color="r", label="Training score")
    plt.plot(train_sizes, svm_valid_scores_mean, 'o-', color="g", label="Cross-validation score")
    plt.legend(loc="best")
    plt.show()

    train_sizes, knn_train_scores, knn_valid_scores = learning_curve(knn_classifier, X, y, train_sizes=np.linspace(0.1, 1.0, 10), cv=5)
    knn_train_scores_mean = np.mean(knn_train_scores, axis=1)
    knn_valid_scores_mean = np.mean(knn_valid_scores, axis=1)

    plt.figure()
    plt.title(f"Learning Curve (KNN) - {dataset_name}")
    plt.xlabel("Training examples")
    plt.ylabel("Score")
    plt.grid()
    plt.plot(train_sizes, knn_train_scores_mean, 'o-', color="r", label="Training score")
    plt.plot(train_sizes, knn_valid_scores_mean, 'o-', color="g", label="Cross-validation score")
    plt.legend(loc="best")
    plt.show()
